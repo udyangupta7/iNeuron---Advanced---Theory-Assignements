{
 "cells": [
  {
   "cell_type": "markdown",
   "id": "1d5d3368",
   "metadata": {},
   "source": [
    "# Assignment 6:\n",
    "\n",
    "#### Question 1:  Describe three applications for exception processing.\n",
    "\n",
    "#### Answer 1: \n",
    "\n",
    "Exception Processing is important to find exceptions that causes the runtime error. As runtime errors Halt the program execution when exception occurs.\n",
    "\n",
    "Exception Processing is used in Various Applications of which few examples are:\n",
    "\n",
    "Checking Appropriate use of input in an application\n",
    "Checking for Arithmetic exceptions in mathematical executions\n",
    "Checking File I/O exceptions during File handling\n",
    "\n",
    "\n",
    "#### Question 2: What happens if you don't do something extra to treat an exception?\n",
    "\n",
    "#### Answer 2: \n",
    "\n",
    "If Exceptions are not handled flow of program will be broken during the run time which might lead to a abnormal termination of the program. Inshort inability of program to handle exceptions will result in crashing of program.\n",
    "\n",
    "\n",
    "#### Question 3: What are your options for recovering from an exception in your script?\n",
    "\n",
    "#### Answer 3: \n",
    "Python provides try and except statements for recovering from an exception in your script.\n",
    "\n",
    "\n",
    "#### Question 4: Describe two methods for triggering exceptions in your script ?\n",
    "\n",
    "#### Answer 4: \n",
    "\n",
    "raise and assert are two methods that can be used to trigger manual exceptions in your script.\n",
    "\n",
    "1. raise method - it triggers an exception if condition provided to it turns out to be True.\n",
    "\n",
    "2. assert - will let the program to continue execution if condition provided to it turns out to be True else exception will be raised\n",
    "\n",
    "Ex:\n"
   ]
  },
  {
   "cell_type": "code",
   "execution_count": 2,
   "id": "f9c946c4",
   "metadata": {},
   "outputs": [
    {
     "ename": "Exception",
     "evalue": "X Value Should not exceed 5 The Provided Value of X is 10",
     "output_type": "error",
     "traceback": [
      "\u001b[1;31m---------------------------------------------------------------------------\u001b[0m",
      "\u001b[1;31mException\u001b[0m                                 Traceback (most recent call last)",
      "\u001b[1;32m<ipython-input-2-1d53112ee0ec>\u001b[0m in \u001b[0;36m<module>\u001b[1;34m\u001b[0m\n\u001b[0;32m      2\u001b[0m \u001b[1;33m\u001b[0m\u001b[0m\n\u001b[0;32m      3\u001b[0m \u001b[0mx\u001b[0m \u001b[1;33m=\u001b[0m \u001b[1;36m10\u001b[0m\u001b[1;33m\u001b[0m\u001b[1;33m\u001b[0m\u001b[0m\n\u001b[1;32m----> 4\u001b[1;33m \u001b[1;32mraise\u001b[0m \u001b[0mException\u001b[0m\u001b[1;33m(\u001b[0m\u001b[1;34mf'X Value Should not exceed 5 The Provided Value of X is {x}'\u001b[0m\u001b[1;33m)\u001b[0m\u001b[1;33m\u001b[0m\u001b[1;33m\u001b[0m\u001b[0m\n\u001b[0m",
      "\u001b[1;31mException\u001b[0m: X Value Should not exceed 5 The Provided Value of X is 10"
     ]
    }
   ],
   "source": [
    "# example of raise:\n",
    "\n",
    "x = 10\n",
    "raise Exception(f'X Value Should not exceed 5 The Provided Value of X is {x}')"
   ]
  },
  {
   "cell_type": "code",
   "execution_count": 3,
   "id": "d5a7c5f8",
   "metadata": {},
   "outputs": [
    {
     "ename": "AssertionError",
     "evalue": "2 is not equal to 4",
     "output_type": "error",
     "traceback": [
      "\u001b[1;31m---------------------------------------------------------------------------\u001b[0m",
      "\u001b[1;31mAssertionError\u001b[0m                            Traceback (most recent call last)",
      "\u001b[1;32m<ipython-input-3-c35851bdce11>\u001b[0m in \u001b[0;36m<module>\u001b[1;34m\u001b[0m\n\u001b[0;32m      1\u001b[0m \u001b[1;31m# example of assert:\u001b[0m\u001b[1;33m\u001b[0m\u001b[1;33m\u001b[0m\u001b[1;33m\u001b[0m\u001b[0m\n\u001b[0;32m      2\u001b[0m \u001b[1;33m\u001b[0m\u001b[0m\n\u001b[1;32m----> 3\u001b[1;33m \u001b[1;32massert\u001b[0m\u001b[1;33m(\u001b[0m\u001b[1;36m2\u001b[0m\u001b[1;33m==\u001b[0m\u001b[1;36m4\u001b[0m\u001b[1;33m)\u001b[0m\u001b[1;33m,\u001b[0m \u001b[1;34m\"2 is not equal to 4\"\u001b[0m\u001b[1;33m\u001b[0m\u001b[1;33m\u001b[0m\u001b[0m\n\u001b[0m",
      "\u001b[1;31mAssertionError\u001b[0m: 2 is not equal to 4"
     ]
    }
   ],
   "source": [
    "# example of assert:\n",
    "\n",
    "assert(2==4), \"2 is not equal to 4\""
   ]
  },
  {
   "cell_type": "markdown",
   "id": "df1af1ce",
   "metadata": {},
   "source": [
    "#### Question 5: Identify two methods for specifying actions to be executed at termination time, regardless of whether or not an exception exists.\n",
    "\n",
    "#### Answer 5: \n",
    "Python Provides else and finally blocks for specifying actions to be executed at termination time, regardless of whether an exceptions exists or not."
   ]
  }
 ],
 "metadata": {
  "kernelspec": {
   "display_name": "Python 3",
   "language": "python",
   "name": "python3"
  },
  "language_info": {
   "codemirror_mode": {
    "name": "ipython",
    "version": 3
   },
   "file_extension": ".py",
   "mimetype": "text/x-python",
   "name": "python",
   "nbconvert_exporter": "python",
   "pygments_lexer": "ipython3",
   "version": "3.7.10"
  }
 },
 "nbformat": 4,
 "nbformat_minor": 5
}
