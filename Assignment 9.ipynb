{
 "cells": [
  {
   "cell_type": "markdown",
   "id": "b5cf24da",
   "metadata": {},
   "source": [
    "# Assignment 9:\n",
    "\n",
    "#### Question 1: In Python 3.X, what are the names and functions of string object types?\n",
    "#### Answer 1: \n",
    "\n",
    "The following are the names and functions of string object types in Python 3.X:\n",
    "\n",
    "    <stirng>.isdecimal() -> Returns True if all characters in a string are decimal.\n",
    "    <string>.isalnum() -> Returns True if all characters in the string are AlphaNumeric.\n",
    "    <string>.istitle() -> Returns True if first character in a string is in Uppercase.\n",
    "    <string>.partition(<sub_string>) -> Splits string at first occurance of sub string and returns a tuple of 3 elements.\n",
    "    <string>.rpartition(<sub_string>) -> Splits string at last occurance of sub string and returns a tuple of 3 elements.\n",
    "    <string>.isidentifier() -> Returns True if give string is a valid identifier name.\n",
    "    len(<string>) -> Returns the length of the given string.\n",
    "    <string>.index(<sub_string>) -> Returns the lowest index of substring if substring is found in the string.\n",
    "    <string>.rindex(<sub_string>) -> Returns the highest index of substring if substring is found in the string.\n",
    "    max(<string>) -> Returns the highest Alphabetical Character in the string as per ASCII.\n",
    "    min(<string>) -> Returns the lowest Alphabetical Character in the string as per ASCII.\n",
    "    <string>.splitlines() -> Returns a list of lines in the string.\n",
    "    <string>.capitalize() -> Returns the string with first character capitalized.\n",
    "    <string>.upper() -> Returns the string with all characters in uppercase.\n",
    "    <string>.lower() -> Returns the string with all characters in lowercase\n",
    "    <string>.casefold() -> Returns the string in lowercase which can be used for caseless comparisions.\n",
    "    <string>.expandtabs(no_of_spaces) -> Replaces tabs in a string with specified no of spaces default is 8\n",
    "    <string>.find(<sub_string>) -> Returns lowest index of substring if substring is found in the string else returns -1.\n",
    "    <string>.rfind(<sub_string>) -> Returns highest index of substring if substring is found in the string else returns -1.\n",
    "    <string>.count(<char>) -> Returns the no of occurances of the char in the given string.\n",
    "    <string>.split(<sep>) -> Returns list of words seperated by given sep else seperated by whitespace.\n",
    "    <string>.rsplit(<sep>) -> Returns list of words seperated by given sep else seperated by whitespace scanning from end.\n",
    "    <string>.lstrip() -> Returns a copy of where leading whitespaces are removed.\n",
    "    <string>.rstrip() -> Returns a copy of where trailed whitespaces are removed.\n",
    "    <string>.strip() -> Returns a copy of where both leading and trailing whitespaces are removed.\n",
    "    <string>.swapcase() -> Swaps lowercase characters with uppercase and vice versa.\n",
    "    <sep>.join(<list>) -> Concatenates a list or tuple of words with intervening occuernces of sep.\n",
    "    <string>.translate(<mapping_table>) -> translates the characters using table.\n",
    "    <string>.maketrans(<dict>) -> Creating a mapping translation tbale usable for <string>.translate(<mapping_table>)\n",
    "    <string>.replace(<char_1>,<char_2>) -> Replace all occurances of char_1 with char_2 in string.\n",
    "    <string>.encode() -> Encodes string into any encoding supported by python. Default encoding is UTF-8.\n",
    "    <string>.ljust(<no_of_spaces>) -> Left-justify in a field of given width.\n",
    "    <string>.rjust(<no_of_spaces>) -> Right-justify in a field of given width.\n",
    "    <string>.center(<no_of_spaces>) -> Center-justify in a field of given width.\n",
    "    <stirng>.zfill(<length>) -> Zfill adds zeros to the begining of string until the specified length is reached.\n",
    "    \n",
    "Examples:"
   ]
  },
  {
   "cell_type": "code",
   "execution_count": 1,
   "id": "f265caf5",
   "metadata": {},
   "outputs": [
    {
     "name": "stdout",
     "output_type": "stream",
     "text": [
      "True\n",
      "True\n",
      "False\n",
      "('\"I could eat ', 'pasta', ' all day, pasta is my favorite dish!\"')\n",
      "('\"I could eat pasta all day, ', 'pasta', ' is my favorite dish!\"')\n",
      "True\n",
      "16\n",
      "6\n",
      "6\n",
      "t\n",
      "A\n",
      "['iNeuron ', ' Full Stack ', ' Data Science ', ' Course ', ' Feb 2020 Batch']\n",
      "Finding dory\n",
      "DATAPIPELINE\n",
      "aiops\n",
      "james sirius potter\n",
      "Data Science    Data Analyst\n",
      "6\n",
      "6\n",
      "2\n",
      "['iNeuro', '']\n",
      "['iNeuro', '']\n",
      "EDA \n",
      " EDA\n",
      "EDA\n",
      "eXPLORATORY dATA aNALYSIS\n",
      "Iris_flower_Dataset\n",
      "Hello Samuel!\n",
      "Hello Pamuel!\n",
      "iNeuro2\n",
      "b'Natural Language Processing'\n",
      "Nemo      \n",
      "      Nemo\n",
      "   Nemo   \n",
      "00000Hello\n"
     ]
    }
   ],
   "source": [
    "print('123456789'.isdecimal())\n",
    "print('iNeuronFullStackDSFeb2020'.isalnum())\n",
    "print('iNeuron Full Stack Data science'.istitle())\n",
    "print('\"I could eat pasta all day, pasta is my favorite dish!\"'.partition('pasta'))\n",
    "print('\"I could eat pasta all day, pasta is my favorite dish!\"'.rpartition('pasta'))\n",
    "print('TravelFillsMySoul'.isidentifier())\n",
    "print(len('Machine Learning'))\n",
    "print('iNeuron'.index('n'))\n",
    "print('iNeuron'.rindex('n'))\n",
    "print(max('Data_Scientist'))\n",
    "print(min('Data_Analyst'))\n",
    "print('iNeuron \\n Full Stack \\n Data Science \\n Course \\n Feb 2020 Batch'.splitlines())\n",
    "print('finding dory'.capitalize())\n",
    "print('datapipeline'.upper())\n",
    "print('AIOPS'.lower())\n",
    "print('James Sirius Potter'.casefold())\n",
    "print('Data Science\\tData Analyst'.expandtabs(8))\n",
    "print('iNeuron'.find('n'))\n",
    "print('iNeuron'.rfind('n'))\n",
    "print('Transformers'.count('s'))\n",
    "print('iNeuron'.split('n'))\n",
    "print('iNeuron'.rsplit('n'))\n",
    "print(' EDA '.lstrip())\n",
    "print(' EDA '.rstrip())\n",
    "print(' EDA '.strip())\n",
    "print('Exploratory Data Analysis'.swapcase())\n",
    "print('_'.join(['Iris','flower','Dataset']))\n",
    "\n",
    "mydict = {78:  80}\n",
    "print(\"Hello Samuel!\".translate(mydict))\n",
    "\n",
    "txt = \"Hello Samuel!\"\n",
    "mytable = txt.maketrans(\"S\", \"P\")\n",
    "print(txt.translate(mytable))\n",
    "\n",
    "print('iNeuron'.replace('n','2'))\n",
    "print('Natural Language Processing'.encode())\n",
    "print('Nemo'.ljust(10))\n",
    "print('Nemo'.rjust(10))\n",
    "print('Nemo'.center(10))\n",
    "print('Hello'.zfill(10))"
   ]
  },
  {
   "cell_type": "markdown",
   "id": "d8b475da",
   "metadata": {},
   "source": [
    "#### Question 2: How do the string forms in Python 3.X vary in terms of operations?\n",
    "#### Answer 2:  \n",
    "In Python3.X default format of strings is Unicode Whereas in Pyton2 we need to explicitly mention Unicode value using u.\n",
    "\n",
    "#### Question 3: In Python 3.X, how do you put non-ASCII Unicode characters in a string?\n",
    "#### Answer 3: \n",
    "In Python 3.x unidecode() method from unidecode library can be used to put non-ASCII Unicode Characters in a string.\n",
    " "
   ]
  },
  {
   "cell_type": "code",
   "execution_count": 2,
   "id": "c1c18d29",
   "metadata": {},
   "outputs": [
    {
     "ename": "ModuleNotFoundError",
     "evalue": "No module named 'unidecode'",
     "output_type": "error",
     "traceback": [
      "\u001b[1;31m---------------------------------------------------------------------------\u001b[0m",
      "\u001b[1;31mModuleNotFoundError\u001b[0m                       Traceback (most recent call last)",
      "\u001b[1;32m<ipython-input-2-f767477ae683>\u001b[0m in \u001b[0;36m<module>\u001b[1;34m\u001b[0m\n\u001b[1;32m----> 1\u001b[1;33m \u001b[1;32mfrom\u001b[0m \u001b[0munidecode\u001b[0m \u001b[1;32mimport\u001b[0m \u001b[0munidecode\u001b[0m\u001b[1;33m\u001b[0m\u001b[1;33m\u001b[0m\u001b[0m\n\u001b[0m\u001b[0;32m      2\u001b[0m \u001b[0mprint\u001b[0m\u001b[1;33m(\u001b[0m\u001b[0munidecode\u001b[0m\u001b[1;33m(\u001b[0m\u001b[1;34mu'ko\\u017eu\\u0161\\u010dek'\u001b[0m\u001b[1;33m)\u001b[0m\u001b[1;33m)\u001b[0m\u001b[1;33m\u001b[0m\u001b[1;33m\u001b[0m\u001b[0m\n\u001b[0;32m      3\u001b[0m \u001b[0mprint\u001b[0m\u001b[1;33m(\u001b[0m\u001b[0munidecode\u001b[0m\u001b[1;33m(\u001b[0m\u001b[1;34m\"आप नीचे अपनी भाषा और इनपुट उपकरण चुनें और लिखना आरंभ करें\"\u001b[0m\u001b[1;33m)\u001b[0m\u001b[1;33m)\u001b[0m\u001b[1;33m\u001b[0m\u001b[1;33m\u001b[0m\u001b[0m\n\u001b[0;32m      4\u001b[0m \u001b[0mprint\u001b[0m\u001b[1;33m(\u001b[0m\u001b[0munidecode\u001b[0m\u001b[1;33m(\u001b[0m\u001b[1;34m\"谢谢你\"\u001b[0m\u001b[1;33m)\u001b[0m\u001b[1;33m)\u001b[0m\u001b[1;33m\u001b[0m\u001b[1;33m\u001b[0m\u001b[0m\n\u001b[0;32m      5\u001b[0m \u001b[0mprint\u001b[0m\u001b[1;33m(\u001b[0m\u001b[0munidecode\u001b[0m\u001b[1;33m(\u001b[0m\u001b[1;34m\"ありがとう。\"\u001b[0m\u001b[1;33m)\u001b[0m\u001b[1;33m)\u001b[0m\u001b[1;33m\u001b[0m\u001b[1;33m\u001b[0m\u001b[0m\n",
      "\u001b[1;31mModuleNotFoundError\u001b[0m: No module named 'unidecode'"
     ]
    }
   ],
   "source": [
    "from unidecode import unidecode\n",
    "print(unidecode(u'ko\\u017eu\\u0161\\u010dek'))\n",
    "print(unidecode(\"आप नीचे अपनी भाषा और इनपुट उपकरण चुनें और लिखना आरंभ करें\"))\n",
    "print(unidecode(\"谢谢你\"))\n",
    "print(unidecode(\"ありがとう。\"))\n",
    "print(unidecode(\"улыбаться Владимир Путин\"))"
   ]
  },
  {
   "cell_type": "markdown",
   "id": "1f68b814",
   "metadata": {},
   "source": [
    "#### Question 4: In Python 3.X, what are the key differences between text-mode and binary-mode files?\n",
    "#### Answer 4:  \n",
    "The major difference between these two is that a text file contains textual information in the form of alphabets, digits and special characters or symbols. On the other hand, a binary file contains bytes or a compiled version of a text file.\n",
    "\n",
    "    When a file is opened in text mode, reading its data automatically decodes its content (as per the platform default or as per provided encoding), and returns it as a str; writing operation takes a str, and automatically encodes it before transferring to the file. Text mode files also support universal end-of-line translation, and encoding specification arguments.\n",
    "\n",
    "    When a file is opened in binary mode by adding a b to the mode string argument in the open() call, reading its data does not decode it in any way, and simply returns its content raw and unchanged, as a bytes object; writing takes a bytes object and transfers it to the file unchanged. Binary-mode files also accept a bytearray object for the content to be written to the file.\n",
    "\n",
    "#### Question 5: How can you interpret a Unicode text file containing text encoded in a different encoding than your platform's default?\n",
    "#### Answer 5:  \n",
    "Use of encode() and decode() method can be used to you interpret a Unicode text file containing text encoded in a different encoding than your platform's default, by default encoding parameter is UTF-8\n",
    "\n",
    "#### Question 6: What is the best way to make a Unicode text file in a particular encoding format?\n",
    "#### Answer 6: \n",
    "Use str.encode() and file.write() to make a Unicode text file in a particular encoding format, default encoding format is UTF-18.\n",
    "\n",
    "    Call str.encode(encoding) with encoding set to utf8 to encode str.\n",
    "    \n",
    "    Call open(file, mode) to open a file with mode set to wb . wb writes to files in binary mode & preserves UTF-8format.\n",
    "    \n",
    "    Call file.write(data) to write data to the file.\n",
    "    \n",
    "Ex:"
   ]
  },
  {
   "cell_type": "code",
   "execution_count": 3,
   "id": "c954b0d9",
   "metadata": {},
   "outputs": [
    {
     "name": "stdout",
     "output_type": "stream",
     "text": [
      "b'\\xd1\\x83\\xd0\\xbb\\xd1\\x8b\\xd0\\xb1\\xd0\\xb0\\xd1\\x82\\xd1\\x8c\\xd1\\x81\\xd1\\x8f \\xd0\\x92\\xd0\\xbb\\xd0\\xb0\\xd0\\xb4\\xd0\\xb8\\xd0\\xbc\\xd0\\xb8\\xd1\\x80 \\xd0\\x9f\\xd1\\x83\\xd1\\x82\\xd0\\xb8\\xd0\\xbd'\n",
      "\n",
      "b'\\xd1\\x83\\xd0\\xbb\\xd1\\x8b\\xd0\\xb1\\xd0\\xb0\\xd1\\x82\\xd1\\x8c\\xd1\\x81\\xd1\\x8f \\xd0\\x92\\xd0\\xbb\\xd0\\xb0\\xd0\\xb4\\xd0\\xb8\\xd0\\xbc\\xd0\\xb8\\xd1\\x80 \\xd0\\x9f\\xd1\\x83\\xd1\\x82\\xd0\\xb8\\xd0\\xbd'\n"
     ]
    }
   ],
   "source": [
    "unicode_text = u\"улыбаться Владимир Путин\"\n",
    "encoded_unicode_text = unicode_text.encode(\"utf-8\")\n",
    "print(encoded_unicode_text,end=\"\\n\\n\")\n",
    "\n",
    "w_file = open(\"w_file.txt\",\"wb\")\n",
    "w_file.write(encoded_unicode_text)\n",
    "w_file.close()\n",
    "\n",
    "r_file = open(\"w_file.txt\",\"rb\")\n",
    "data = r_file.read()\n",
    "print(data)"
   ]
  },
  {
   "cell_type": "markdown",
   "id": "1c052213",
   "metadata": {},
   "source": [
    "#### Question 7: What qualifies ASCII text as a form of Unicode text?\n",
    "#### Answer 7:\n",
    "Unicode represents most written languages in the world. ASCII has its equivalent in Unicode. The difference between ASCII and Unicode is that ASCII represents lowercase letters (a-z), uppercase letters (A-Z), digits (0–9) and symbols such as punctuation marks while Unicode represents letters of English, Arabic, Greek etc. mathematical symbols, historical scripts, emoji covering a wide range of characters than ASCII.\n",
    "\n",
    "#### Question 8: How much of an effect does the change in string types in Python 3.X have on your code?\n",
    "#### Answer 8:\n",
    "Python 3.X stores strings as Unicode by default whereas Python 2 requires you to mark a string with a u if you want to store it as Unicode. Unicode strings are more versatile than ASCII strings, which are the Python 3.X default, as they can store letters from foreign languages as well as emoji and the standard Roman letters and numerals."
   ]
  }
 ],
 "metadata": {
  "kernelspec": {
   "display_name": "Python 3",
   "language": "python",
   "name": "python3"
  },
  "language_info": {
   "codemirror_mode": {
    "name": "ipython",
    "version": 3
   },
   "file_extension": ".py",
   "mimetype": "text/x-python",
   "name": "python",
   "nbconvert_exporter": "python",
   "pygments_lexer": "ipython3",
   "version": "3.7.10"
  }
 },
 "nbformat": 4,
 "nbformat_minor": 5
}
