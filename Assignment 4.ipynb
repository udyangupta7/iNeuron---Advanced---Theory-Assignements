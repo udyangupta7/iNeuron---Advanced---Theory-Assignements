{
 "cells": [
  {
   "cell_type": "markdown",
   "id": "f6f457ca",
   "metadata": {},
   "source": [
    "# Assignment 4:\n",
    "\n",
    "#### Question 1: Which two operator overloading methods can you use in your classes to support iteration?\n",
    "\n",
    "#### Answer 1: \n",
    "\n",
    "Operator overloading is the process of using an operator in different ways depending on the operands. You can change the way an operator in Python works on different data-types.\n",
    "\n",
    "A very popular and convenient example is the Addition (+) operator.\n",
    "\n",
    "Just think how the ‘+’ operator operates on two numbers and the same operator operates on two strings. It performs “Addition” on numbers whereas it performs “Concatenation” on strings.\n",
    "\n",
    "The __ iter __ method returns the iterator object and is implicitly called at the start of loops. \n",
    "\n",
    "The __ next __ method returns the next value and is implicitly called at each loop increment. This method raises a StopIteration exception when there are no more value to return, which is implicitly captured by looping constructs to stop iterating.\n",
    "\n",
    "Ex:"
   ]
  },
  {
   "cell_type": "code",
   "execution_count": 3,
   "id": "1d69e15b",
   "metadata": {
    "scrolled": true
   },
   "outputs": [
    {
     "name": "stdout",
     "output_type": "stream",
     "text": [
      "5 6 7 8 9 10 11 12 13 14 15 "
     ]
    }
   ],
   "source": [
    "class Counter:\n",
    "    def __init__(self,low,high):\n",
    "        self.current = low\n",
    "        self.high = high\n",
    "    def __iter__(self):\n",
    "        return self\n",
    "    def __next__(self):\n",
    "        if self.current > self.high:\n",
    "            raise StopIteration\n",
    "        else:\n",
    "            self.current += 1\n",
    "            return self.current - 1\n",
    "        \n",
    "for element in Counter(5,15):\n",
    "    print(element, end=\" \")"
   ]
  },
  {
   "cell_type": "markdown",
   "id": "435c07f7",
   "metadata": {},
   "source": [
    "#### Question 2: In what contexts do the two operator overloading methods manage printing?\n",
    "\n",
    "#### Answer 2: \n",
    "\n",
    "The __ str __ & __ repr __ are two operator overloading methods that manage printing.\n",
    "\n",
    "In Short, the difference between both these operators is the goal of __ repr __ is to be unambiguous and __ str __ is to be readable.\n",
    "\n",
    "Whenever we are printing any object reference internally __ str __ method will be called by default.\n",
    "\n",
    "The main purpose of __ str __ is for readability. it prints the informal string representation of an object, one that is useful for printing the object. it may not be possible to convert result string to original object.\n",
    "\n",
    "__ repr __ is used to print official string representation of an object, so it includes all information and development.\n",
    "\n",
    "Ex:"
   ]
  },
  {
   "cell_type": "code",
   "execution_count": 8,
   "id": "f1fdb295",
   "metadata": {},
   "outputs": [
    {
     "name": "stdout",
     "output_type": "stream",
     "text": [
      "<__main__.Student object at 0x000001507B7AE688>\n",
      "Student Name: Udyan and Roll No: 1\n",
      "2022-03-03 20:08:32.281494\n",
      "Unable to convert back to the original object.\n",
      "datetime.datetime(2022, 3, 3, 20, 8, 32, 281494)\n",
      "2022-03-03 20:07:08.859107\n"
     ]
    }
   ],
   "source": [
    "class Student:\n",
    "    def __init__(self,name,roll_no):\n",
    "        self.name = name\n",
    "        self.roll_no = roll_no\n",
    "        \n",
    "s1 = Student(\"Udyan Gupta\",1)\n",
    "print(str(s1))\n",
    "\n",
    "class Student:\n",
    "    def __init__(self,name,roll_no):\n",
    "        self.name = name\n",
    "        self.roll_no = roll_no\n",
    "    def __str__(self):\n",
    "        return f'Student Name: {self.name} and Roll No: {self.roll_no}'\n",
    "    \n",
    "s1 = Student(\"Udyan\",1)\n",
    "print(str(s1))\n",
    "\n",
    "import datetime\n",
    "today = datetime.datetime.now()\n",
    "\n",
    "string = str(today) # converting datetime object to presentable str\n",
    "print(string)\n",
    "try: d = eval(s) # converting str back to datetime object\n",
    "except: print(\"Unable to convert back to the original object.\")\n",
    "    \n",
    "unable = repr(today) # converting datetime object to str\n",
    "print(unable)\n",
    "\n",
    "evaluation = eval(u) # converting str back to datetime object\n",
    "print(evaluation)"
   ]
  },
  {
   "cell_type": "markdown",
   "id": "c232dc8b",
   "metadata": {},
   "source": [
    "# Question3: In a class, how do you intercept slice operations?\n",
    "\n",
    "#### Answer 3: \n",
    "\n",
    "In a class use of slice() in __ getitem __ method is used for intercept slice operation. This slice method is provided with start integer number, stop integer number and step integer number.\n",
    "\n",
    "Ex: __ getitem __ (slice(start, stop, step))\n",
    "\n",
    "#### Question 4: In a class, how do you capture in-place addition?\n",
    "\n",
    "#### Answer 4: \n",
    "\n",
    "'a+b' is normal addition. Whereas 'a+=b' is inplace addition operation. It is the shortened version if a = a+b. In this in-place addition a itself will store the value of addition. In a class __ iadd __ method is used for this in-place operation.\n",
    "\n",
    "Ex: "
   ]
  },
  {
   "cell_type": "code",
   "execution_count": 11,
   "id": "673d7c3a",
   "metadata": {},
   "outputs": [
    {
     "name": "stdout",
     "output_type": "stream",
     "text": [
      "250\n"
     ]
    }
   ],
   "source": [
    "class Book:\n",
    "    def __init__(self,pages):\n",
    "        self.pages = pages\n",
    "    def __iadd__(self,other):\n",
    "        self.pages += other.pages\n",
    "        return self.pages\n",
    "        \n",
    "b1 = Book(100)\n",
    "b2 = Book(150)\n",
    "b1+=b2\n",
    "\n",
    "print(b1)"
   ]
  },
  {
   "cell_type": "markdown",
   "id": "7c84aba8",
   "metadata": {},
   "source": [
    "#### Question 5: When is it appropriate to use operator overloading?\n",
    "\n",
    "#### Answer 5: \n",
    "\n",
    "Operator overloading is used when we want to use an operator other than its normal operation to have different meaning according to the context required in user defined function.\n",
    "\n",
    "Ex:"
   ]
  },
  {
   "cell_type": "code",
   "execution_count": 13,
   "id": "52ab235f",
   "metadata": {},
   "outputs": [
    {
     "name": "stdout",
     "output_type": "stream",
     "text": [
      "Total Number of Pages -> 305\n"
     ]
    }
   ],
   "source": [
    "class Book:\n",
    "    def __init__(self,pages):\n",
    "        self.pages = pages\n",
    "    def __add__(self,other):\n",
    "        return self.pages+other.pages\n",
    "    \n",
    "b1 = Book(75)\n",
    "b2 = Book(230)\n",
    "print(f'Total Number of Pages -> {b1+b2}')"
   ]
  }
 ],
 "metadata": {
  "kernelspec": {
   "display_name": "Python 3",
   "language": "python",
   "name": "python3"
  },
  "language_info": {
   "codemirror_mode": {
    "name": "ipython",
    "version": 3
   },
   "file_extension": ".py",
   "mimetype": "text/x-python",
   "name": "python",
   "nbconvert_exporter": "python",
   "pygments_lexer": "ipython3",
   "version": "3.7.10"
  }
 },
 "nbformat": 4,
 "nbformat_minor": 5
}
