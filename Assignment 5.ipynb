{
 "cells": [
  {
   "cell_type": "markdown",
   "id": "4e107db3",
   "metadata": {},
   "source": [
    "# Assignment 5:\n",
    "\n",
    "#### Question 1: What is the meaning of multiple inheritance?\n",
    "\n",
    "#### Answer 1: \n",
    "\n",
    "Inheritence is nothing but reusing the code of Parent class by the child class. Similary when a child class inherits its properties from multiple Parent classes this scenario is called Multiple Inheritence.\n",
    "\n",
    "Ex:"
   ]
  },
  {
   "cell_type": "code",
   "execution_count": 2,
   "id": "e34be2e9",
   "metadata": {},
   "outputs": [],
   "source": [
    "class Parent_One:\n",
    "    pass\n",
    "class Parent_Two:\n",
    "    pass\n",
    "class child(Parent_One, Parent_Two):\n",
    "    pass"
   ]
  },
  {
   "cell_type": "markdown",
   "id": "0d1a594e",
   "metadata": {},
   "source": [
    "#### Question 2:  What is the concept of delegation?\n",
    "\n",
    "#### Answer 2: \n",
    "\n",
    "Delegation provides a proxy object for any class thay you want on top of the main class. its like a wrapper to your class so that you can access limited resources of the main class.\n",
    "\n",
    "it Wraps the object of main class into a smaller object with limited access\n",
    "\n",
    "Simply Delegation means that you can include a instance of another class as an instance variable, and forward messages to the instance.\n",
    " \n",
    "Ex:"
   ]
  },
  {
   "cell_type": "code",
   "execution_count": 3,
   "id": "ecfa2feb",
   "metadata": {},
   "outputs": [
    {
     "name": "stdout",
     "output_type": "stream",
     "text": [
      "Hey, I am back.\n",
      "Hey, I am back.\n",
      "Hey, I am back.\n",
      "I am the main class!\n"
     ]
    }
   ],
   "source": [
    "class Myclass:\n",
    "    def sayHi(self):\n",
    "        print('Hey, I am back.')\n",
    "    def whoAmI(self):\n",
    "        print('I am the main class!')\n",
    "class NewClass:\n",
    "    def __init__(self,obj):\n",
    "        self.main = obj\n",
    "    def welcome(self):\n",
    "        self.main.sayHi()\n",
    "\n",
    "m = Myclass()        \n",
    "n = NewClass(m)\n",
    "\n",
    "m.sayHi()\n",
    "n.main.sayHi()\n",
    "n.welcome()\n",
    "n.main.whoAmI()"
   ]
  },
  {
   "cell_type": "markdown",
   "id": "546be178",
   "metadata": {},
   "source": [
    "#### Question 3: What is the concept of composition?\n",
    "\n",
    "#### Answer 3:\n",
    "\n",
    "In the concept of Composition, a class refers to one or more other classes by using instances of those classes as a instance variable. irrespective of inheritence in this approach all the parent class members are not inherited into child class, but only required methods from a class are used by using class instances.\n",
    "\n",
    "Ex:"
   ]
  },
  {
   "cell_type": "code",
   "execution_count": 5,
   "id": "d34ffa59",
   "metadata": {},
   "outputs": [
    {
     "name": "stdout",
     "output_type": "stream",
     "text": [
      "Total Salary : 960000\n"
     ]
    }
   ],
   "source": [
    "class Salary:\n",
    "    def __init__(self,pay):\n",
    "        self.pay = pay\n",
    "        \n",
    "    def get_total(self):\n",
    "        return self.pay*12\n",
    "    \n",
    "class Employee:\n",
    "    def __init__(self,pay,bonus):\n",
    "        self.pay = pay\n",
    "        self.bonus = bonus\n",
    "        self.obj_salary = Salary(self.pay)\n",
    "        \n",
    "    def annual_salary(self):\n",
    "        return f'Total Salary : {str(self.obj_salary.get_total())}'\n",
    "\n",
    "obj_emp = Employee(80000,50000)\n",
    "print(obj_emp.annual_salary())"
   ]
  },
  {
   "cell_type": "markdown",
   "id": "d480e855",
   "metadata": {},
   "source": [
    "#### Question 4: What are bound methods and how do we use them?\n",
    "\n",
    "#### Answer 4:\n",
    "\n",
    "If a function is an attribute of class and it is accessed via the instances, they are called bound methods. A bound method is one that has self as its first argument. Since these are dependent on the instance of classes, these are also known as instance methods.\n",
    "\n",
    "Ex:"
   ]
  },
  {
   "cell_type": "code",
   "execution_count": 8,
   "id": "66fc7f71",
   "metadata": {},
   "outputs": [
    {
     "name": "stdout",
     "output_type": "stream",
     "text": [
      "Calling the first method.\n",
      "Called the second method.\n",
      "Called the second method.\n",
      "Called the third method.\n"
     ]
    }
   ],
   "source": [
    "class Test:\n",
    "    def method_one(self): # bound method\n",
    "        print(\"Calling the first method.\")\n",
    "        \n",
    "    @classmethod\n",
    "    def method_two(cls): # unbound method\n",
    "        print(\"Called the second method.\")\n",
    "        \n",
    "    @staticmethod\n",
    "    def method_three(): # static method\n",
    "        print(\"Called the third method.\")\n",
    "\n",
    "test = Test()\n",
    "test.method_one() # accessing through instance object.\n",
    "test.method_two() # accessing through instance object.\n",
    "Test.method_two() # accessing directly through class.\n",
    "Test.method_three() # accessing directly through class."
   ]
  },
  {
   "cell_type": "markdown",
   "id": "2377ff3a",
   "metadata": {},
   "source": [
    "#### Question 5:  What is the purpose of pseudoprivate attributes?\n",
    "\n",
    "#### Answer 5:\n",
    "\n",
    " Pseudoprivate attributes are also useful in larger frameworks or tools, both to avoid introducing new method names that might accidentally hide definitions elsewhere in the class tree and to reduce the chance of internal methods being replaced by names defined lower in the tree. If a method is intended for use only within a class that may be mixed into other classes, the double underscore prefix ensures that the method won't interfere with other names in the tree, especially in multiple-inheritance scenarios\n",
    "\n",
    "Pseudoprivate names also prevent subclasses from accidentally redefining the internal method's names.\n",
    "\n",
    "Ex:"
   ]
  },
  {
   "cell_type": "code",
   "execution_count": 10,
   "id": "f1348eae",
   "metadata": {},
   "outputs": [],
   "source": [
    "class Super:\n",
    "    def method(self): # A real application method\n",
    "        pass\n",
    "    \n",
    "class Tool:\n",
    "    def _method(self): # becomes _Tool_method\n",
    "        pass\n",
    "    \n",
    "    def other(self): # uses internal method\n",
    "        self._method()\n",
    "        \n",
    "class subclass1(Tool,Super):\n",
    "    def actions(self):\n",
    "        self.method()\n",
    "\n",
    "class subclass2(Tool):\n",
    "    def __init__(self):\n",
    "        self.method = 99"
   ]
  }
 ],
 "metadata": {
  "kernelspec": {
   "display_name": "Python 3",
   "language": "python",
   "name": "python3"
  },
  "language_info": {
   "codemirror_mode": {
    "name": "ipython",
    "version": 3
   },
   "file_extension": ".py",
   "mimetype": "text/x-python",
   "name": "python",
   "nbconvert_exporter": "python",
   "pygments_lexer": "ipython3",
   "version": "3.7.10"
  }
 },
 "nbformat": 4,
 "nbformat_minor": 5
}
