{
 "cells": [
  {
   "cell_type": "markdown",
   "id": "d06e33e3",
   "metadata": {},
   "source": [
    "# Theory Assignment 3:\n",
    "#### Q1: What is the concept of an abstract superclass?\n",
    "\n",
    "#### A1:\n",
    "\n",
    "An abstract class can be considered as a blueprint for other classes that allows you to create a set of methods that must be created within any child classes built from the abstract class. A class which contains one or more abstract methods is called an abstract class. \n",
    "\n",
    "An abstract method is a method that has a declaration but does not have an implementation.\n",
    "  \n",
    "##### Why use Abstract Base Classes : \n",
    "By defining an abstract base class, you can define a common Application Program Interface(API) for a set of subclasses. This capability is especially useful in situations where a third-party is going to provide implementations, such as with plugins, but can also help you when working in a large team or with a large code-base where keeping all classes in your mind is difficult or not possible. \n",
    "  \n",
    "###### How Abstract Base classes work : \n",
    "\n",
    "By default, Python does not provide abstract classes. Python comes with a module that provides the base for defining Abstract Base classes(ABC) and that module name is ABC. ABC works by decorating methods of the base class as abstract and then registering concrete classes as implementations of the abstract base. A method becomes abstract when decorated with the keyword @abstractmethod. \n",
    "\n",
    "Ex:"
   ]
  },
  {
   "cell_type": "code",
   "execution_count": 3,
   "id": "f72b6e60",
   "metadata": {},
   "outputs": [
    {
     "name": "stdout",
     "output_type": "stream",
     "text": [
      "I have 3 sides\n",
      "I have 4 sides\n",
      "I have 5 sides\n",
      "I have 6 sides\n"
     ]
    }
   ],
   "source": [
    "from abc import ABC, abstractmethod \n",
    "class Polygon(ABC):\n",
    "    @abstractmethod\n",
    "    def noofsides(self):\n",
    "        pass\n",
    "class Triangle(Polygon):\n",
    "    # overriding abstract method\n",
    "    def noofsides(self):\n",
    "        print(\"I have 3 sides\")\n",
    "class Pentagon(Polygon):\n",
    "     # overriding abstract method\n",
    "    def noofsides(self):\n",
    "        print(\"I have 5 sides\")\n",
    "class Hexagon(Polygon):\n",
    "    # overriding abstract method\n",
    "    def noofsides(self):\n",
    "        print(\"I have 6 sides\")\n",
    "class Quadrilateral(Polygon):\n",
    "     # overriding abstract method\n",
    "    def noofsides(self):\n",
    "        print(\"I have 4 sides\")\n",
    " \n",
    "R = Triangle()\n",
    "R.noofsides()\n",
    " \n",
    "K = Quadrilateral()\n",
    "K.noofsides()\n",
    " \n",
    "R = Pentagon()\n",
    "R.noofsides()\n",
    " \n",
    "K = Hexagon()\n",
    "K.noofsides()"
   ]
  },
  {
   "cell_type": "markdown",
   "id": "efd3ece0",
   "metadata": {},
   "source": [
    "#### Q2: What happens when a class statement's top level contains a basic assignment statement?\n",
    "\n",
    "#### A2: \n",
    "\n",
    "A simple statement is comprised within a single logical line. Several simple statements may occur on a single line separated by semicolons. In python, the statements which are not indented are called a top-level statement. Internally python gives a special name to top-level statements as _ _ main _ _.\n",
    "\n",
    "When we run a simple statement inside a class statement's top level, it will run the simple statement normally as it would, even if it wasn't inside the class statement's top level.\n",
    "\n",
    "Ex:"
   ]
  },
  {
   "cell_type": "code",
   "execution_count": 7,
   "id": "c8c174ff",
   "metadata": {},
   "outputs": [
    {
     "name": "stdout",
     "output_type": "stream",
     "text": [
      "Printing OS\n"
     ]
    }
   ],
   "source": [
    "class importing:\n",
    "    import os\n",
    "    print(\"Printing OS\")"
   ]
  },
  {
   "cell_type": "markdown",
   "id": "acfc2c51",
   "metadata": {},
   "source": [
    "#### Q3: Why does a class need to manually call a superclass's __init__ method?\n",
    "\n",
    "#### A3:\n",
    "\n",
    "It's because one needs to define something that is NOT done in the base-class' _ _ init _ _ , and the only possibility to obtain that is to put its execution in a derived-class' _ _ init _ _ function.\n",
    "\n",
    "Ex:"
   ]
  },
  {
   "cell_type": "code",
   "execution_count": 14,
   "id": "e2c6cd49",
   "metadata": {},
   "outputs": [
    {
     "data": {
      "text/plain": [
       "\"Returning 'c' for class 'C'.\""
      ]
     },
     "execution_count": 14,
     "metadata": {},
     "output_type": "execute_result"
    }
   ],
   "source": [
    "class C(object):\n",
    "    def __init__(self):\n",
    "        self.b = b\n",
    "    def redunant(self):\n",
    "        return \"Returning 'c' for class 'C'.\"\n",
    "c = C.redunant(\"c\")\n",
    "c"
   ]
  },
  {
   "cell_type": "markdown",
   "id": "599f66e3",
   "metadata": {},
   "source": [
    "#### Q4: How can you augment, instead of completely replacing, an inherited method?\n",
    "\n",
    "#### A4:\n",
    "\n",
    "What we really want to do here is somehow augment the original giveRaise, instead of replacing it altogether. The good way to do that in Python is by calling to the original version directly, with augmented arguments."
   ]
  },
  {
   "cell_type": "markdown",
   "id": "3316fcb1",
   "metadata": {},
   "source": [
    "#### Q5: How is the local scope of a class different from that of a function?\n",
    "\n",
    "#### A5:\n",
    "\n",
    "1. Local Scope: Including the function's parameters, the local variables are defined in a function. Programs initialize parameters with the values passed in as a part of the function call. Programmers may explicitly initialize the remaining local variables with an assignment that is part of the variable definition, but doing this is not required.\n",
    "\n",
    "2. Function Scope: Function scope is basically defined outside of any function or any class. If the programmer does not explicitly initialize global variables, the compiler automatically initializes them to their zero-equivalent.\n",
    "\n",
    "Ex:"
   ]
  },
  {
   "cell_type": "code",
   "execution_count": 19,
   "id": "b4c8cb30",
   "metadata": {},
   "outputs": [
    {
     "name": "stdout",
     "output_type": "stream",
     "text": [
      "x inside: global\n",
      "x outside: global\n"
     ]
    }
   ],
   "source": [
    "x = \"global\"\n",
    "def foo():\n",
    "    print(\"x inside:\", x)\n",
    "foo()\n",
    "print(\"x outside:\", x)\n"
   ]
  }
 ],
 "metadata": {
  "kernelspec": {
   "display_name": "Python 3",
   "language": "python",
   "name": "python3"
  },
  "language_info": {
   "codemirror_mode": {
    "name": "ipython",
    "version": 3
   },
   "file_extension": ".py",
   "mimetype": "text/x-python",
   "name": "python",
   "nbconvert_exporter": "python",
   "pygments_lexer": "ipython3",
   "version": "3.8.8"
  }
 },
 "nbformat": 4,
 "nbformat_minor": 5
}
