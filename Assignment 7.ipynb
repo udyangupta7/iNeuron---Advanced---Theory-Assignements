{
 "cells": [
  {
   "cell_type": "markdown",
   "id": "969da6aa",
   "metadata": {},
   "source": [
    "# Assignment 7:\n",
    "\n",
    "#### Question1: What is the purpose of the try statement?\n",
    "\n",
    "#### Answer 1: \n",
    "\n",
    "try statement is used for exception handling in python. it consists of a block of risky statements which might cause an exception during runtime. if code within try block raises exception, then the exception will be reverted to the corresponding except block if multiple except blocks are present, else it willbe reverted to the default except block. In short try and except in union avoid programs from crashing during runtime due to exceptions.\n",
    "\n",
    "Ex:"
   ]
  },
  {
   "cell_type": "code",
   "execution_count": 1,
   "id": "3f69f631",
   "metadata": {},
   "outputs": [
    {
     "name": "stdout",
     "output_type": "stream",
     "text": [
      "Division by Zero is Not Possible\n"
     ]
    }
   ],
   "source": [
    "try:\n",
    "    print(10/0)\n",
    "    \n",
    "except ZeroDivisionError:\n",
    "    print('Division by Zero is Not Possible')"
   ]
  },
  {
   "cell_type": "markdown",
   "id": "f81dcd4c",
   "metadata": {},
   "source": [
    "#### Question 2: What are the two most popular try statement variations?\n",
    "\n",
    "#### Answer 2: \n",
    "The Popular try statement variations are:\n",
    "\n",
    "    1. try,except\n",
    "    2. try,except,finally\n",
    "    3. try,except,finally,else\n",
    "\n",
    "The try block is used to check code for exceptions during runtime. i.e., code inside try block will execute completely when there is no error in the program. Whereas the code inside except block will execute whenever the program encounters some error in the preceeding try block.\n",
    "\n",
    "Whereas the code enters the else block if and only if the try clause does not raise and exception. The code in the finally block will execute irrespective of exception.\n",
    "\n",
    "#### Question 3: What is the purpose of the raise statement?\n",
    "\n",
    "#### Answer 3: \n",
    "The raise statement is used to trigger an exception explicitly, if a certain condition is not as per requirement of programmer. raise statement helps in triggering exception as per programming logic.\n",
    "\n",
    "#### Question 4: What does the assert statement do, and what other statement is it like?\n",
    "\n",
    "#### Answer 4:\n",
    "There are few assertions that programmer always want to be true to avoid code failure. This type of requirement is fulfilled by assert statement. This statement takes a boolean condition output of which is True, Further Program Executes. if output of assert statement is False, it raises an Assertion Error.\n",
    "\n",
    "Ex:"
   ]
  },
  {
   "cell_type": "code",
   "execution_count": 2,
   "id": "b874f5b7",
   "metadata": {},
   "outputs": [
    {
     "ename": "AssertionError",
     "evalue": "This is not a valid statement. Please try again.",
     "output_type": "error",
     "traceback": [
      "\u001b[1;31m---------------------------------------------------------------------------\u001b[0m",
      "\u001b[1;31mAssertionError\u001b[0m                            Traceback (most recent call last)",
      "\u001b[1;32m<ipython-input-2-fd5a6327217e>\u001b[0m in \u001b[0;36m<module>\u001b[1;34m\u001b[0m\n\u001b[1;32m----> 1\u001b[1;33m \u001b[1;32massert\u001b[0m\u001b[1;33m(\u001b[0m\u001b[1;36m2\u001b[0m \u001b[1;33m==\u001b[0m \u001b[1;36m4\u001b[0m\u001b[1;33m)\u001b[0m\u001b[1;33m,\u001b[0m \u001b[1;34mf'This is not a valid statement. Please try again.'\u001b[0m\u001b[1;33m\u001b[0m\u001b[1;33m\u001b[0m\u001b[0m\n\u001b[0m",
      "\u001b[1;31mAssertionError\u001b[0m: This is not a valid statement. Please try again."
     ]
    }
   ],
   "source": [
    "assert(2 == 4), f'This is not a valid statement. Please try again.'"
   ]
  },
  {
   "cell_type": "markdown",
   "id": "66d137a7",
   "metadata": {},
   "source": [
    "#### Question 5: What is the purpose of the with/as argument, and what other statement is it like?\n",
    "\n",
    "#### Answer 5:\n",
    "with/as statement simplifies use of file handling in python. When we use a with statement for file reading, there is no need for programmer to explicitly takecare of activities like resource deallocation and file closing by using file.close() method. with statement itself ensures proper acquisition and release of resources. this avoids triggering of exceptions if file closing is unknowingly forgotten in the code execution.\n",
    "\n",
    "Ex:"
   ]
  },
  {
   "cell_type": "code",
   "execution_count": 3,
   "id": "65445f26",
   "metadata": {},
   "outputs": [],
   "source": [
    "with open('sample_file_1.txt','w') as file:\n",
    "    file.write('Hello World')"
   ]
  }
 ],
 "metadata": {
  "kernelspec": {
   "display_name": "Python 3",
   "language": "python",
   "name": "python3"
  },
  "language_info": {
   "codemirror_mode": {
    "name": "ipython",
    "version": 3
   },
   "file_extension": ".py",
   "mimetype": "text/x-python",
   "name": "python",
   "nbconvert_exporter": "python",
   "pygments_lexer": "ipython3",
   "version": "3.7.10"
  }
 },
 "nbformat": 4,
 "nbformat_minor": 5
}
