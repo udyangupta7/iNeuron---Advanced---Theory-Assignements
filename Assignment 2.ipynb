{
 "cells": [
  {
   "cell_type": "markdown",
   "id": "8a20aeff",
   "metadata": {},
   "source": [
    "# Assignment 2:\n",
    "\n",
    "#### Q1: What is the relationship between classes and modules?\n",
    "\n",
    "#### A1:\n",
    "\n",
    "When using modules, we import (call) a module and then we use it. We can import only certain parts(exports) of a module, we can import the default export, if the module has one, but nothing more then that.\n",
    "\n",
    "And when we are writing a module, we export things out of it. We can even make one of the things (things here can be anything - a string, a number, a null, a function, class, object, etc.), we exported the default export, but not necessarily.\n",
    "\n",
    "Now in practice, in some environments, our modules will typically have only one export, and that export will be a class. So in such cases, there’s almost a one-to-one relation with modules and classes, but I don’t think it ever IS fully one-to-one.\n",
    "\n",
    "Now, a class is simply a special way (to some more clear, to some more confusing) of writing a object constructors. Basically it’s a function, just written in a certain way. So when exporting a “class”, we’re exporting a function.\n",
    "\n",
    "#### Q2: How do you make instances and classes?\n",
    "\n",
    "#### A2:\n",
    "\n",
    "Python instance variables are owned by an instance of a class. The value of an instance variable can be different depending on the instance with which the variable is associated.\n",
    "\n",
    "This means that the value of each instance variable can be. This is unlike a class variable where the variable can only have one value that you assign. Instance variables are declared inside a class method.\n",
    "\n",
    "Here is an example of two instance variables in Python:"
   ]
  },
  {
   "cell_type": "code",
   "execution_count": null,
   "id": "48ca3a04",
   "metadata": {},
   "outputs": [],
   "source": [
    "class CoffeeOrder:\n",
    "    def __init__(self, coffee_name, price):\n",
    "        self.coffee_name = coffee_name\n",
    "        self.price = price "
   ]
  },
  {
   "cell_type": "markdown",
   "id": "c3a30d41",
   "metadata": {},
   "source": [
    "In this example, coffee_name and price are instance variables that exist within our class.\n",
    "\n",
    "On the other hand, Python class variable is shared by all object instances of a class. Class variables are declared when a class is being constructed. They are not defined inside any methods of a class.\n",
    "\n",
    "Because a class variable is shared by instances of a class, the Python class owns the variable. As a result, all instances of the class will be able to access that variable. Class variables are shared by all instances that access the class.\n",
    "\n",
    "Here is an example of a class variable in Python:"
   ]
  },
  {
   "cell_type": "code",
   "execution_count": 2,
   "id": "3e5d98ae",
   "metadata": {},
   "outputs": [],
   "source": [
    "class Espresso:\n",
    "    menu_type = \"Drink\""
   ]
  },
  {
   "cell_type": "markdown",
   "id": "e460005f",
   "metadata": {},
   "source": [
    "In this example, we declare a class variable called menu_type. This class variable is assigned to the class Espresso.\n",
    "\n",
    "#### Q3: Where and how should be class attributes created?\n",
    "\n",
    "#### A3: \n",
    "\n",
    "Class attributes are the variables defined directly in the class that are shared by all the objects of the class. \n",
    "Hence, they should be created when a common variable needs to be shared by all the objects. \n",
    "They can be defined directly inside a class.\n",
    "\n",
    "Ex:"
   ]
  },
  {
   "cell_type": "code",
   "execution_count": 6,
   "id": "e697f98d",
   "metadata": {},
   "outputs": [],
   "source": [
    "class Student:\n",
    "    count = 0\n",
    "    def __init__(self):\n",
    "        Student.count += 1    "
   ]
  },
  {
   "cell_type": "markdown",
   "id": "d6bd612d",
   "metadata": {},
   "source": [
    "In the above example, count is an attribute in the Student class. Whenever a new object is created, the value of count is incremented by 1. You can now access the count attribute after creating the objects, as shown below:"
   ]
  },
  {
   "cell_type": "code",
   "execution_count": 7,
   "id": "6e9a2147",
   "metadata": {},
   "outputs": [
    {
     "name": "stdout",
     "output_type": "stream",
     "text": [
      "1\n",
      "2\n",
      "3\n"
     ]
    }
   ],
   "source": [
    "std1=Student()\n",
    "print(Student.count)\n",
    "std2 = Student()\n",
    "print(Student.count)\n",
    "std3 = Student()\n",
    "print(Student.count)"
   ]
  },
  {
   "cell_type": "markdown",
   "id": "2175c9f0",
   "metadata": {},
   "source": [
    "#### Q4: Where and how are instance attributes created?\n",
    "\n",
    "#### A4: \n",
    "\n",
    "Instance Attributes are defined inside a constructor using the self parameter. They are specific to object and changing values of instance attributes will not be reflected to other objects.\n",
    "\n",
    "Ex:"
   ]
  },
  {
   "cell_type": "code",
   "execution_count": 8,
   "id": "2c93903c",
   "metadata": {},
   "outputs": [],
   "source": [
    "class Student:\n",
    "    def __init__(self, name, age): \n",
    "        self.name = name\n",
    "        self.age = age"
   ]
  },
  {
   "cell_type": "markdown",
   "id": "dff7ec25",
   "metadata": {},
   "source": [
    "Now, you can specify the values while creating an instance, as shown below."
   ]
  },
  {
   "cell_type": "code",
   "execution_count": 14,
   "id": "24a286d9",
   "metadata": {},
   "outputs": [
    {
     "name": "stdout",
     "output_type": "stream",
     "text": [
      "Bill\n",
      "25\n",
      "\n",
      "Steve\n",
      "45\n"
     ]
    }
   ],
   "source": [
    "std = Student('Bill',25)\n",
    "print(std.name)\n",
    "print(std.age)\n",
    "std.name = 'Steve'\n",
    "std.age = 45\n",
    "print(\"\")\n",
    "print(std.name)\n",
    "print(std.age)"
   ]
  },
  {
   "cell_type": "markdown",
   "id": "679e4c8f",
   "metadata": {},
   "source": [
    "#### Q5: What does the term \"self\" in a Python class mean?\n",
    "\n",
    "#### A5:\n",
    "\n",
    "self represents the instance of the class. By using the “self” keyword we can access the attributes and methods of the class in python. It binds the attributes with the given arguments. It's always pointing to Current Object.\n",
    "\n",
    "Ex:"
   ]
  },
  {
   "cell_type": "code",
   "execution_count": 1,
   "id": "5ce2c85b",
   "metadata": {},
   "outputs": [
    {
     "name": "stdout",
     "output_type": "stream",
     "text": [
      "Address of self =  140329167406368\n",
      "Address of class object =  140329167406368\n"
     ]
    }
   ],
   "source": [
    "class check:\n",
    "    def __init__(self):\n",
    "        print(\"Address of self = \",id(self))\n",
    "obj = check()\n",
    "print(\"Address of class object = \",id(obj))"
   ]
  },
  {
   "cell_type": "markdown",
   "id": "12edbdf6",
   "metadata": {},
   "source": [
    "#### Q6: How does a Python class handle operator overloading?\n",
    "\n",
    "#### A6:\n",
    "\n",
    "In Python, we can think of methods as a special set of \"attributes\" and there can only be one \"attribute\" (and thus one method) of a given name for an object. The last method overwrites any previous methods. In Java, methods are not first-class citizens (they are not \"attributes of objects\"), but are rather invoked by \"sending messages\" that are are statically resolved based on closest type (which is where overloading comes in). – \n",
    "\n",
    "Ex:"
   ]
  },
  {
   "cell_type": "code",
   "execution_count": 3,
   "id": "140b3d5a",
   "metadata": {},
   "outputs": [
    {
     "name": "stdout",
     "output_type": "stream",
     "text": [
      "3\n",
      "GeeksFor\n",
      "12\n",
      "GeeksGeeksGeeksGeeks\n"
     ]
    }
   ],
   "source": [
    "print(1 + 2)\n",
    "print(\"Geeks\"+\"For\")\n",
    "print(3 * 4)\n",
    "print(\"Geeks\"*4)"
   ]
  },
  {
   "cell_type": "markdown",
   "id": "8a3912f6",
   "metadata": {},
   "source": [
    "#### Q7: When do you consider allowing operator overloading of your classes?\n",
    "\n",
    "#### A7:\n",
    "\n",
    "By overloading standard operators on a class, you can exploit the intuition of the users of that class. This lets users program in the language of the problem domain rather than in the language of the machine.\n",
    "\n",
    "Ex:"
   ]
  },
  {
   "cell_type": "code",
   "execution_count": 4,
   "id": "48024447",
   "metadata": {},
   "outputs": [
    {
     "name": "stdout",
     "output_type": "stream",
     "text": [
      "3\n",
      "GeeksFor\n",
      "12\n",
      "GeeksGeeksGeeksGeeks\n"
     ]
    }
   ],
   "source": [
    "print(1 + 2)\n",
    "print(\"Geeks\"+\"For\")\n",
    "print(3 * 4)\n",
    "print(\"Geeks\"*4)"
   ]
  },
  {
   "cell_type": "markdown",
   "id": "fbe07efa",
   "metadata": {},
   "source": [
    "#### Q8: What is the most popular form of operator overloading?\n",
    "\n",
    "#### A8:\n",
    "\n",
    "A very popular and convenient example is the Addition (+) operator. Just think how the '+' operator operates on two numbers and the same operator operates on two strings. It performs “Addition” on numbers whereas it performs “Concatenation” on strings.\n",
    "\n",
    "Ex:"
   ]
  },
  {
   "cell_type": "code",
   "execution_count": 5,
   "id": "27f1c12f",
   "metadata": {},
   "outputs": [],
   "source": [
    "class bubble:\n",
    "    def __init__(self, volume):\n",
    "        self.volume = volume\n",
    "    def __str__(self):\n",
    "        return \"volume is \" + str(self.volume)\n",
    "    def __add__(self, other):\n",
    "        volume = self.volume + other.volume\n",
    "        return bubble(volume)"
   ]
  },
  {
   "cell_type": "markdown",
   "id": "fbd60eaf",
   "metadata": {},
   "source": [
    "#### Q9: What are the two most important concepts to grasp in order to comprehend Python OOP code?\n",
    "\n",
    "#### A9:\n",
    "\n",
    "Object oriented programming (OOP) paradigm is built around the idea of having objects that belong to a particular type. In a sense, the type is what explains us the object.\n",
    "\n",
    "Both inheritance and polymorphism are key ingredients for designing robust, flexible, and easy-to-maintain software. These concepts are best explained via examples. Let’s start with creating a simple class.\n",
    "\n",
    "1. Inheritance: In this scenario, Manager is said to be a child class of the Employee class. The child class copies the attributes (both data and procedural) from the parent class.\n",
    "\n",
    "Ex:"
   ]
  },
  {
   "cell_type": "code",
   "execution_count": 9,
   "id": "efca0c47",
   "metadata": {},
   "outputs": [
    {
     "name": "stdout",
     "output_type": "stream",
     "text": [
      "56000\n",
      "58800.0\n"
     ]
    }
   ],
   "source": [
    "class Employee():\n",
    "    def __init__(self, emp_id, salary):\n",
    "        self.emp_id = emp_id\n",
    "        self.salary = salary\n",
    "    def give_raise(self):\n",
    "        self.salary = self.salary * 1.05\n",
    "\n",
    "emp1 = Employee(1001, 56000)\n",
    "print(emp1.salary)\n",
    "emp1.give_raise()\n",
    "print(emp1.salary)"
   ]
  },
  {
   "cell_type": "markdown",
   "id": "9be53a1b",
   "metadata": {},
   "source": [
    "2. Polymorphism: We now have three different class and they all have a give_raise method. Although the name of the method is the same, it behaves differently for different type of objects.\n",
    "\n",
    "Ex:"
   ]
  },
  {
   "cell_type": "code",
   "execution_count": 15,
   "id": "037e712a",
   "metadata": {},
   "outputs": [
    {
     "name": "stdout",
     "output_type": "stream",
     "text": [
      "5\n",
      "9\n"
     ]
    }
   ],
   "source": [
    "def add(x, y, z = 0):\n",
    "    return x + y+z\n",
    "print(add(2, 3))\n",
    "print(add(2, 3, 4))"
   ]
  }
 ],
 "metadata": {
  "kernelspec": {
   "display_name": "Python 3",
   "language": "python",
   "name": "python3"
  },
  "language_info": {
   "codemirror_mode": {
    "name": "ipython",
    "version": 3
   },
   "file_extension": ".py",
   "mimetype": "text/x-python",
   "name": "python",
   "nbconvert_exporter": "python",
   "pygments_lexer": "ipython3",
   "version": "3.8.8"
  }
 },
 "nbformat": 4,
 "nbformat_minor": 5
}
